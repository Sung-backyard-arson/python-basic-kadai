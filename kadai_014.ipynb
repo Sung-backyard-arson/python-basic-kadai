{
  "nbformat": 4,
  "nbformat_minor": 0,
  "metadata": {
    "colab": {
      "provenance": []
    },
    "kernelspec": {
      "name": "python3",
      "display_name": "Python 3"
    },
    "language_info": {
      "name": "python"
    }
  },
  "cells": [
    {
      "cell_type": "code",
      "execution_count": 3,
      "metadata": {
        "colab": {
          "base_uri": "https://localhost:8080/"
        },
        "id": "x-rTOU9S36Tz",
        "outputId": "9f39da55-82d1-4e78-91b7-ae0bf613d923"
      },
      "outputs": [
        {
          "output_type": "stream",
          "name": "stdout",
          "text": [
            "330.0\n"
          ]
        }
      ],
      "source": [
        "# 侍テラコヤ提出課題\n",
        "# Pythonの基礎を学ぼう -> 変数スコープを正しく使おう\n",
        "\n",
        "# スコープに関するエラーが発生するプログラムを修正\n",
        "\n",
        "price1 = 100\n",
        "price2 = 200\n",
        "\n",
        "def total():\n",
        "    tax = 1.1\n",
        "    return (price1 + price2) * tax\n",
        "    #return (price1 + price2)\n",
        "\n",
        "print (total())\n",
        "#print (total() * tax)"
      ]
    }
  ]
}