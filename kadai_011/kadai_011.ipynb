{
  "nbformat": 4,
  "nbformat_minor": 0,
  "metadata": {
    "colab": {
      "provenance": []
    },
    "kernelspec": {
      "name": "python3",
      "display_name": "Python 3"
    },
    "language_info": {
      "name": "python"
    }
  },
  "cells": [
    {
      "cell_type": "code",
      "execution_count": 4,
      "metadata": {
        "colab": {
          "base_uri": "https://localhost:8080/"
        },
        "id": "L5zpJz5_YV6D",
        "outputId": "f8b65453-3829-487b-c38e-6f8e76afa9c6"
      },
      "outputs": [
        {
          "output_type": "stream",
          "name": "stdout",
          "text": [
            "水\n",
            "金\n",
            "地\n",
            "火\n",
            "木\n",
            "土\n",
            "天\n",
            "海\n",
            "冥\n",
            "水\n",
            "金\n",
            "地\n",
            "火\n",
            "木\n",
            "土\n",
            "天\n",
            "海\n",
            "冥\n"
          ]
        }
      ],
      "source": [
        "# 侍テラコヤ提出課題\n",
        "# Pythonの基礎を学ぼう -> 繰り返し処理を使いこなそう\n",
        "\n",
        "# リストの中身を先頭から全て取り出すプログラム\n",
        "\n",
        "array = [\"水\",\"金\",\"地\",\"火\",\"木\",\"土\",\"天\",\"海\",\"冥\"]\n",
        "i = 0\n",
        "\n",
        "# for分で取り出す\n",
        "for planet in array:\n",
        "  print(planet)\n",
        "\n",
        "# while分で取り出す\n",
        "while i < len(array):\n",
        "  print(array[i])\n",
        "  i += 1"
      ]
    }
  ]
}