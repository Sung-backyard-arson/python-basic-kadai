{
  "nbformat": 4,
  "nbformat_minor": 0,
  "metadata": {
    "colab": {
      "provenance": []
    },
    "kernelspec": {
      "name": "python3",
      "display_name": "Python 3"
    },
    "language_info": {
      "name": "python"
    }
  },
  "cells": [
    {
      "cell_type": "code",
      "execution_count": 4,
      "metadata": {
        "colab": {
          "base_uri": "https://localhost:8080/"
        },
        "id": "n9ZoCSFyQTfw",
        "outputId": "f9e20967-6b69-41f0-daf3-bd62395426d2"
      },
      "outputs": [
        {
          "output_type": "stream",
          "name": "stdout",
          "text": [
            "75.0 cm²\n"
          ]
        }
      ],
      "source": [
        "# 侍テラコヤ提出課題\n",
        "# Pythonの基礎を学ぼう -> 変数を使って四則演算しよう\n",
        "\n",
        "# 台形の面積の計算結果を出力するプログラム\n",
        "\n",
        "# パラメータ（単位：cm）\n",
        "top_side = 10\n",
        "bottom_side = 20\n",
        "height = 5\n",
        "\n",
        "# 台形の面積を計算\n",
        "area_trapezoid = (top_side + bottom_side) * height / 2\n",
        "\n",
        "print( str(area_trapezoid) + \" cm²\" )\n"
      ]
    }
  ]
}