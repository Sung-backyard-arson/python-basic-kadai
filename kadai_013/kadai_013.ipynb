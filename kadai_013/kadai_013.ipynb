{
  "nbformat": 4,
  "nbformat_minor": 0,
  "metadata": {
    "colab": {
      "provenance": []
    },
    "kernelspec": {
      "name": "python3",
      "display_name": "Python 3"
    },
    "language_info": {
      "name": "python"
    }
  },
  "cells": [
    {
      "cell_type": "code",
      "execution_count": 2,
      "metadata": {
        "colab": {
          "base_uri": "https://localhost:8080/"
        },
        "id": "m6bK6N45hV72",
        "outputId": "3ba605ba-f1f8-42ee-cb46-c432f774e915"
      },
      "outputs": [
        {
          "output_type": "stream",
          "name": "stdout",
          "text": [
            "1100.0円\n"
          ]
        }
      ],
      "source": [
        "# 侍テラコヤ提出課題\n",
        "# Pythonの基礎を学ぼう -> 関数を使いこなそう\n",
        "\n",
        "# 商品購入時の消費税を関数で計算するプログラム\n",
        "\n",
        "sales_tax = 0.1\n",
        "\n",
        "def tax(price, tax):\n",
        "  total = price * (1 + tax)\n",
        "  return total\n",
        "\n",
        "print(f\"{tax(1000,sales_tax)}円\")"
      ]
    }
  ]
}