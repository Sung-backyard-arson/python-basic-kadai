{
  "nbformat": 4,
  "nbformat_minor": 0,
  "metadata": {
    "colab": {
      "provenance": []
    },
    "kernelspec": {
      "name": "python3",
      "display_name": "Python 3"
    },
    "language_info": {
      "name": "python"
    }
  },
  "cells": [
    {
      "cell_type": "code",
      "execution_count": 22,
      "metadata": {
        "colab": {
          "base_uri": "https://localhost:8080/"
        },
        "id": "VHTdg3GxvqKG",
        "outputId": "83e4bd7a-53e7-4808-dac6-0c02bd9878e6"
      },
      "outputs": [
        {
          "output_type": "stream",
          "name": "stdout",
          "text": [
            "var:15\n",
            "FizzBuzz\n"
          ]
        }
      ],
      "source": [
        "# 侍テラコヤ提出課題\n",
        "# Pythonの基礎を学ぼう -> 条件分岐のif文で処理を切り替えよう\n",
        "\n",
        "# FizzBuzz問題のプログラム\n",
        "\n",
        "import random\n",
        "\n",
        "var = random.randint(0, 15) # ランダムな値を生成\n",
        "print(\"var:\" + str(var))\n",
        "\n",
        "if (var % 3 == 0) and (var % 5 == 0):\n",
        "  print(\"FizzBuzz\")\n",
        "elif var % 3 == 0:\n",
        "  print(\"Fizz\")\n",
        "elif var % 5 == 0:\n",
        "  print(\"Buzz\")\n",
        "else:\n",
        "  print(var)"
      ]
    }
  ]
}