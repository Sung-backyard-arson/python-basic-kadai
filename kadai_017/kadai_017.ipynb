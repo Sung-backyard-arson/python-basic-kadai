{
  "nbformat": 4,
  "nbformat_minor": 0,
  "metadata": {
    "colab": {
      "provenance": []
    },
    "kernelspec": {
      "name": "python3",
      "display_name": "Python 3"
    },
    "language_info": {
      "name": "python"
    }
  },
  "cells": [
    {
      "cell_type": "code",
      "execution_count": 8,
      "metadata": {
        "colab": {
          "base_uri": "https://localhost:8080/"
        },
        "id": "IXzlYuAHm5Hk",
        "outputId": "5369e50a-16d4-4029-a5a0-1568d3960ee6"
      },
      "outputs": [
        {
          "output_type": "stream",
          "name": "stdout",
          "text": [
            "広森 冴由季さんは大人です。\n",
            "河内 忠実さんは大人です。\n",
            "池西 美瑚さんは大人ではないです。\n",
            "清永 嘉寿さんは大人です。\n"
          ]
        }
      ],
      "source": [
        "# 侍テラコヤ提出課題\n",
        "# Pythonの基礎を学ぼう -> 学習したことを組み合わせてコードを書こう\n",
        "\n",
        "# Humanインスタンスが成人かどうかチェックするプログラム\n",
        "\n",
        "class Human:\n",
        "  adult_age = 20 # 成人年齢\n",
        "\n",
        "  def __init__(self, name, age):\n",
        "    self.name = name  # 名前\n",
        "    self.age = age    # 年齢\n",
        "\n",
        "  # 大人かどうか判定して出力\n",
        "  def check_adult(self):\n",
        "    if self.age >= Human.adult_age:\n",
        "      print(f\"{self.name}さんは大人です。\")\n",
        "    else:\n",
        "      print(f\"{self.name}さんは大人ではないです。\")\n",
        "\n",
        "# 人を生成してリストへ入れる\n",
        "humans = [\n",
        "  Human(\"広森 冴由季\", 24),\n",
        "  Human(\"河内 忠実\", 36),\n",
        "  Human(\"池西 美瑚\", 18),\n",
        "  Human(\"清永 嘉寿\", 20)\n",
        "]\n",
        "\n",
        "# みんなが大人か否か調べる\n",
        "for human in humans:\n",
        "  human.check_adult()"
      ]
    }
  ]
}